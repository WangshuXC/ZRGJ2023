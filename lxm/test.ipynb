{
 "cells": [
  {
   "cell_type": "code",
   "execution_count": 2,
   "metadata": {},
   "outputs": [
    {
     "ename": "SyntaxError",
     "evalue": "Missing parentheses in call to 'print'. Did you mean print(...)? (<unknown>, line 1)",
     "output_type": "error",
     "traceback": [
      "Traceback \u001b[1;36m(most recent call last)\u001b[0m:\n",
      "\u001b[0m  File \u001b[0;32mf:\\Venvs\\project\\Lib\\site-packages\\IPython\\core\\interactiveshell.py:3508\u001b[0m in \u001b[0;35mrun_code\u001b[0m\n    exec(code_obj, self.user_global_ns, self.user_ns)\u001b[0m\n",
      "\u001b[0m  Cell \u001b[0;32mIn[2], line 2\u001b[0m\n    root_node = ast.parse(\"print 'hello world'\")\u001b[0m\n",
      "\u001b[1;36m  File \u001b[1;32mF:\\Python_3.11.4\\Lib\\ast.py:50\u001b[1;36m in \u001b[1;35mparse\u001b[1;36m\n\u001b[1;33m    return compile(source, filename, mode, flags,\u001b[1;36m\n",
      "\u001b[1;36m  File \u001b[1;32m<unknown>:1\u001b[1;36m\u001b[0m\n\u001b[1;33m    print 'hello world'\u001b[0m\n\u001b[1;37m    ^\u001b[0m\n\u001b[1;31mSyntaxError\u001b[0m\u001b[1;31m:\u001b[0m Missing parentheses in call to 'print'. Did you mean print(...)?\n"
     ]
    }
   ],
   "source": [
    "import ast\n",
    "root_node = ast.parse(\"print 'hello world'\")\n",
    "# root_node -> <_ast.Module object at 0x9e3df6c>"
   ]
  },
  {
   "cell_type": "code",
   "execution_count": 4,
   "metadata": {},
   "outputs": [
    {
     "name": "stdout",
     "output_type": "stream",
     "text": [
      "<ast.Module object at 0x000002973D7FC910>\n"
     ]
    }
   ],
   "source": [
    "import ast\n",
    "\n",
    "py_src = \\\n",
    "    \"\"\"\n",
    "def add(x, y):\n",
    "    return x + y\n",
    "print(add(3, 5))\n",
    "a = 1\n",
    "b = a + 3\n",
    "if b > 3:\n",
    "    print(\"xxx\")\n",
    "\"\"\"\n",
    "\n",
    "r_node = ast.parse(py_src)\n",
    "print(r_node)"
   ]
  },
  {
   "cell_type": "code",
   "execution_count": 5,
   "metadata": {},
   "outputs": [
    {
     "name": "stdout",
     "output_type": "stream",
     "text": [
      "<ast.Module object at 0x000002973D7FD930>\n"
     ]
    }
   ],
   "source": [
    "import ast\n",
    "\n",
    "py_src = \\\n",
    "    \"\"\"\n",
    "def add(x, y):\n",
    "    return x + y\n",
    "a = add(3, 5)\n",
    "\"\"\"\n",
    "\n",
    "r_node = ast.parse(py_src)\n",
    "print(r_node)"
   ]
  },
  {
   "cell_type": "code",
   "execution_count": 13,
   "metadata": {},
   "outputs": [
    {
     "name": "stdout",
     "output_type": "stream",
     "text": [
      "<ast.Module object at 0x000002973DE8F7C0>\n"
     ]
    },
    {
     "data": {
      "text/plain": [
       "'Module(body=[Expr(value=List(elts=[Constant(value=1), Constant(value=2), Constant(value=3)], ctx=Load()))], type_ignores=[])'"
      ]
     },
     "execution_count": 13,
     "metadata": {},
     "output_type": "execute_result"
    }
   ],
   "source": [
    "\n",
    "import ast\n",
    "# py_src = \\\n",
    "#     \"\"\"\n",
    "# print('hello world')\n",
    "# \"\"\"\n",
    "\n",
    "a = \"[1, 2, 3]\"\n",
    "\n",
    "root_node = ast.parse(a)\n",
    "print(root_node)\n",
    "\n",
    "ast.dump(root_node)"
   ]
  },
  {
   "cell_type": "code",
   "execution_count": 4,
   "metadata": {},
   "outputs": [
    {
     "name": "stdout",
     "output_type": "stream",
     "text": [
      "Module(body=[Expr(value=Call(func=Attribute(value=Constant(value='abc'), attr='capitalize', ctx=Load()), args=[], keywords=[]))], type_ignores=[])\n"
     ]
    }
   ],
   "source": [
    "import ast\n",
    "\n",
    "node = \"'abc'.capitalize()\"\n",
    "\n",
    "root_node = ast.parse(node)\n",
    "print(ast.dump(root_node))\n"
   ]
  },
  {
   "cell_type": "code",
   "execution_count": 21,
   "metadata": {},
   "outputs": [
    {
     "name": "stdout",
     "output_type": "stream",
     "text": [
      "Module(body=[FunctionDef(name='add', args=arguments(posonlyargs=[], args=[arg(arg='x'), arg(arg='y')], kwonlyargs=[], kw_defaults=[], defaults=[]), body=[Return(value=BinOp(left=Name(id='x', ctx=Load()), op=Add(), right=Name(id='y', ctx=Load())))], decorator_list=[])], type_ignores=[])\n"
     ]
    }
   ],
   "source": [
    "import ast\n",
    "\n",
    "py_src = \\\n",
    "    \"\"\"\n",
    "def add(x, y):\n",
    "    return x + y\n",
    "\"\"\"\n",
    "\n",
    "r_node = ast.parse(py_src)\n",
    "print(ast.dump(r_node))\n"
   ]
  },
  {
   "cell_type": "code",
   "execution_count": 23,
   "metadata": {},
   "outputs": [
    {
     "ename": "AttributeError",
     "evalue": "'FunctionDef' object has no attribute 'value'",
     "output_type": "error",
     "traceback": [
      "\u001b[1;31m---------------------------------------------------------------------------\u001b[0m",
      "\u001b[1;31mAttributeError\u001b[0m                            Traceback (most recent call last)",
      "Cell \u001b[1;32mIn[23], line 27\u001b[0m\n\u001b[0;32m     18\u001b[0m code \u001b[39m=\u001b[39m \u001b[39m\"\u001b[39m\u001b[39mresult = 10 + 5\u001b[39m\u001b[39m\"\u001b[39m\n\u001b[0;32m     20\u001b[0m py_src \u001b[39m=\u001b[39m \\\n\u001b[0;32m     21\u001b[0m \u001b[39m    \u001b[39m\u001b[39m\"\"\"\u001b[39;00m\n\u001b[0;32m     22\u001b[0m \u001b[39mdef add(x, y):\u001b[39;00m\n\u001b[0;32m     23\u001b[0m \u001b[39m    return x + y\u001b[39;00m\n\u001b[0;32m     24\u001b[0m \u001b[39ma = add(3, 5)\u001b[39;00m\n\u001b[0;32m     25\u001b[0m \u001b[39m\"\"\"\u001b[39;00m\n\u001b[1;32m---> 27\u001b[0m result_type \u001b[39m=\u001b[39m parse_assignment(py_src)\n\u001b[0;32m     28\u001b[0m \u001b[39mprint\u001b[39m(result_type)  \u001b[39m# 输出: Int\u001b[39;00m\n",
      "Cell \u001b[1;32mIn[23], line 7\u001b[0m, in \u001b[0;36mparse_assignment\u001b[1;34m(code)\u001b[0m\n\u001b[0;32m      5\u001b[0m tree \u001b[39m=\u001b[39m ast\u001b[39m.\u001b[39mparse(code)  \u001b[39m# 解析赋值语句为AST\u001b[39;00m\n\u001b[0;32m      6\u001b[0m assign_node \u001b[39m=\u001b[39m tree\u001b[39m.\u001b[39mbody[\u001b[39m0\u001b[39m]  \u001b[39m# 获取赋值节点\u001b[39;00m\n\u001b[1;32m----> 7\u001b[0m value_node \u001b[39m=\u001b[39m assign_node\u001b[39m.\u001b[39;49mvalue  \u001b[39m# 获取赋值表达式的节点\u001b[39;00m\n\u001b[0;32m      9\u001b[0m \u001b[39m# 找到最终的值节点\u001b[39;00m\n\u001b[0;32m     10\u001b[0m \u001b[39mwhile\u001b[39;00m \u001b[39misinstance\u001b[39m(value_node, ast\u001b[39m.\u001b[39mBinOp):\n",
      "\u001b[1;31mAttributeError\u001b[0m: 'FunctionDef' object has no attribute 'value'"
     ]
    }
   ],
   "source": [
    "import ast\n",
    "\n",
    "def parse_assignment(code):\n",
    "    try:\n",
    "        tree = ast.parse(code)  # 解析赋值语句为AST\n",
    "        assign_node = tree.body[0]  # 获取赋值节点\n",
    "        value_node = assign_node.value  # 获取赋值表达式的节点\n",
    "\n",
    "        # 找到最终的值节点\n",
    "        while isinstance(value_node, ast.BinOp):\n",
    "            value_node = value_node.right\n",
    "\n",
    "        return_type = type(eval(compile(ast.Expression(value_node), filename='<ast>', mode='eval'))).__name__\n",
    "        return return_type.capitalize()  # 返回返回值类型的首字母大写，其余小写形式\n",
    "    except SyntaxError:\n",
    "        return \"Invalid code\"  # 处理语法错误的情况\n",
    "\n",
    "# code = \"result = 10 + 5\"\n",
    "\n",
    "py_src = \\\n",
    "    \"\"\"\n",
    "def add(x, y):\n",
    "    return x + y\n",
    "a = add(3, 5)\n",
    "\"\"\"\n",
    "\n",
    "result_type = parse_assignment(py_src)\n",
    "print(result_type)  # 输出: Int\n"
   ]
  },
  {
   "cell_type": "code",
   "execution_count": 24,
   "metadata": {},
   "outputs": [
    {
     "name": "stdout",
     "output_type": "stream",
     "text": [
      "No expression found\n"
     ]
    }
   ],
   "source": [
    "import ast\n",
    "\n",
    "def parse_assignment(code):\n",
    "    try:\n",
    "        tree = ast.parse(code)  # 解析代码为AST\n",
    "\n",
    "        # 找到最后一个表达式的节点\n",
    "        last_expr = None\n",
    "        for node in ast.walk(tree):\n",
    "            if isinstance(node, ast.Expr):\n",
    "                last_expr = node\n",
    "\n",
    "        if last_expr:\n",
    "            return_type = type(eval(compile(ast.Expression(last_expr.value), filename='<ast>', mode='eval'))).__name__\n",
    "            return return_type.capitalize()  # 返回返回值类型的首字母大写，其余小写形式\n",
    "        else:\n",
    "            return \"No expression found\"  # 处理没有表达式的情况\n",
    "    except SyntaxError:\n",
    "        return \"Invalid code\"  # 处理语法错误的情况\n",
    "\n",
    "py_src = \"\"\"\n",
    "def add(x, y):\n",
    "    return x + y\n",
    "a = add(3, 5)\n",
    "\"\"\"\n",
    "\n",
    "result_type = parse_assignment(py_src)\n",
    "print(result_type)  # 输出: Int\n"
   ]
  },
  {
   "cell_type": "code",
   "execution_count": 26,
   "metadata": {},
   "outputs": [
    {
     "name": "stdout",
     "output_type": "stream",
     "text": [
      "No expression found\n"
     ]
    }
   ],
   "source": [
    "import ast\n",
    "\n",
    "def parse_assignment(code):\n",
    "    try:\n",
    "        tree = ast.parse(code)  # 解析代码为AST\n",
    "\n",
    "        # 获取最后一个表达式的返回值类型\n",
    "        last_expr = None\n",
    "        if isinstance(tree, ast.Module) and len(tree.body) > 0:\n",
    "            last_node = tree.body[-1]\n",
    "            if isinstance(last_node, ast.Assign) and isinstance(last_node.value, ast.Expr):\n",
    "                last_expr = last_node.value\n",
    "\n",
    "        if last_expr:\n",
    "            return_type = type(eval(compile(ast.Expression(last_expr.value), filename='<ast>', mode='eval'))).__name__\n",
    "            return return_type.capitalize()  # 返回返回值类型的首字母大写，其余小写形式\n",
    "        else:\n",
    "            return \"No expression found\"  # 处理没有表达式的情况\n",
    "    except SyntaxError:\n",
    "        return \"Invalid code\"  # 处理语法错误的情况\n",
    "\n",
    "py_src = \"\"\"\n",
    "def add(x, y):\n",
    "    return x + y\n",
    "a = add(3, 5)\n",
    "\"\"\"\n",
    "\n",
    "result_type = parse_assignment(py_src)\n",
    "print(result_type)  # 输出: Int\n"
   ]
  },
  {
   "cell_type": "code",
   "execution_count": 27,
   "metadata": {},
   "outputs": [
    {
     "name": "stdout",
     "output_type": "stream",
     "text": [
      "No expression found\n"
     ]
    }
   ],
   "source": [
    "import ast\n",
    "\n",
    "def parse_assignment(code):\n",
    "    try:\n",
    "        tree = ast.parse(code)  # 解析代码为AST\n",
    "\n",
    "        last_expr = None\n",
    "\n",
    "        # 寻找赋值表达式的节点\n",
    "        for node in ast.walk(tree):\n",
    "            if isinstance(node, ast.Assign) and isinstance(node.targets[0], ast.Name) and node.targets[0].id == 'a':\n",
    "                if isinstance(node.value, ast.Expr):\n",
    "                    last_expr = node.value.value\n",
    "                break\n",
    "\n",
    "        if last_expr:\n",
    "            return_type = type(eval(compile(ast.Expression(last_expr), filename='<ast>', mode='eval'))).__name__\n",
    "            return return_type.capitalize()  # 返回返回值类型的首字母大写，其余小写形式\n",
    "        else:\n",
    "            return \"No expression found\"  # 处理没有表达式的情况\n",
    "    except SyntaxError:\n",
    "        return \"Invalid code\"  # 处理语法错误的情况\n",
    "\n",
    "py_src = \"\"\"\n",
    "def add(x, y):\n",
    "    return x + y\n",
    "a = add(3, 5)\n",
    "\"\"\"\n",
    "\n",
    "result_type = parse_assignment(py_src)\n",
    "print(result_type)  # 输出: Int\n"
   ]
  },
  {
   "cell_type": "code",
   "execution_count": 29,
   "metadata": {},
   "outputs": [
    {
     "ename": "NameError",
     "evalue": "name 'add' is not defined",
     "output_type": "error",
     "traceback": [
      "\u001b[1;31m---------------------------------------------------------------------------\u001b[0m",
      "\u001b[1;31mNameError\u001b[0m                                 Traceback (most recent call last)",
      "Cell \u001b[1;32mIn[29], line 33\u001b[0m\n\u001b[0;32m     24\u001b[0m \u001b[39m# code = \"result = 10 + 5\"\u001b[39;00m\n\u001b[0;32m     26\u001b[0m py_src \u001b[39m=\u001b[39m \\\n\u001b[0;32m     27\u001b[0m \u001b[39m    \u001b[39m\u001b[39m\"\"\"\u001b[39;00m\n\u001b[0;32m     28\u001b[0m \u001b[39mdef add(x, y):\u001b[39;00m\n\u001b[0;32m     29\u001b[0m \u001b[39m    return x + y\u001b[39;00m\n\u001b[0;32m     30\u001b[0m \u001b[39ma = add(3, 5)\u001b[39;00m\n\u001b[0;32m     31\u001b[0m \u001b[39m\"\"\"\u001b[39;00m\n\u001b[1;32m---> 33\u001b[0m result_type \u001b[39m=\u001b[39m parse_assignment(py_src)\n\u001b[0;32m     34\u001b[0m \u001b[39mprint\u001b[39m(result_type)  \u001b[39m# 输出: Int\u001b[39;00m\n",
      "Cell \u001b[1;32mIn[29], line 19\u001b[0m, in \u001b[0;36mparse_assignment\u001b[1;34m(code)\u001b[0m\n\u001b[0;32m     16\u001b[0m     \u001b[39mwhile\u001b[39;00m \u001b[39misinstance\u001b[39m(value_node, ast\u001b[39m.\u001b[39mBinOp):\n\u001b[0;32m     17\u001b[0m         value_node \u001b[39m=\u001b[39m value_node\u001b[39m.\u001b[39mright\n\u001b[1;32m---> 19\u001b[0m     return_type \u001b[39m=\u001b[39m \u001b[39mtype\u001b[39m(\u001b[39meval\u001b[39;49m(\u001b[39mcompile\u001b[39;49m(ast\u001b[39m.\u001b[39;49mExpression(value_node), filename\u001b[39m=\u001b[39;49m\u001b[39m'\u001b[39;49m\u001b[39m<ast>\u001b[39;49m\u001b[39m'\u001b[39;49m, mode\u001b[39m=\u001b[39;49m\u001b[39m'\u001b[39;49m\u001b[39meval\u001b[39;49m\u001b[39m'\u001b[39;49m)))\u001b[39m.\u001b[39m\u001b[39m__name__\u001b[39m\n\u001b[0;32m     20\u001b[0m     \u001b[39mreturn\u001b[39;00m return_type\u001b[39m.\u001b[39mcapitalize()  \u001b[39m# 返回返回值类型的首字母大写，其余小写形式\u001b[39;00m\n\u001b[0;32m     21\u001b[0m \u001b[39mexcept\u001b[39;00m \u001b[39mSyntaxError\u001b[39;00m:\n",
      "File \u001b[1;32m<ast>:4\u001b[0m\n",
      "\u001b[1;31mNameError\u001b[0m: name 'add' is not defined"
     ]
    }
   ],
   "source": [
    "import ast\n",
    "\n",
    "def parse_assignment(code):\n",
    "    try:\n",
    "        tree = ast.parse(code)  # 解析赋值语句为AST\n",
    "        assign_node = None\n",
    "        for node in tree.body:\n",
    "            if isinstance(node, ast.Assign):\n",
    "                assign_node = node\n",
    "                break\n",
    "        if not assign_node:\n",
    "            return \"No assignment found\"\n",
    "        value_node = assign_node.value  # 获取赋值表达式的节点\n",
    "\n",
    "        # 找到最终的值节点\n",
    "        while isinstance(value_node, ast.BinOp):\n",
    "            value_node = value_node.right\n",
    "\n",
    "        return_type = type(eval(compile(ast.Expression(value_node), filename='<ast>', mode='eval'))).__name__\n",
    "        return return_type.capitalize()  # 返回返回值类型的首字母大写，其余小写形式\n",
    "    except SyntaxError:\n",
    "        return \"Invalid code\"  # 处理语法错误的情况\n",
    "\n",
    "# code = \"result = 10 + 5\"\n",
    "\n",
    "py_src = \\\n",
    "    \"\"\"\n",
    "def add(x, y):\n",
    "    return x + y\n",
    "a = add(3, 5)\n",
    "\"\"\"\n",
    "\n",
    "result_type = parse_assignment(py_src)\n",
    "print(result_type)  # 输出: Int\n"
   ]
  },
  {
   "cell_type": "code",
   "execution_count": 43,
   "metadata": {},
   "outputs": [
    {
     "name": "stdout",
     "output_type": "stream",
     "text": [
      "Module(body=[FunctionDef(name='add', args=arguments(posonlyargs=[], args=[arg(arg='x'), arg(arg='y')], kwonlyargs=[], kw_defaults=[], defaults=[]), body=[Return(value=BinOp(left=Name(id='x', ctx=Load()), op=Add(), right=Name(id='y', ctx=Load())))], decorator_list=[]), Assign(targets=[Name(id='a', ctx=Store())], value=Call(func=Name(id='add', ctx=Load()), args=[Constant(value=3.5), Constant(value=5.5)], keywords=[]))], type_ignores=[])\n",
      "Float\n"
     ]
    }
   ],
   "source": [
    "import ast\n",
    "from py2neo import Graph\n",
    "\n",
    "def parse_assignment(code):\n",
    "    try:\n",
    "        tree = ast.parse(code)\n",
    "\n",
    "        print(ast.dump(tree))\n",
    "\n",
    "        assign_node = None\n",
    "        for node in tree.body:\n",
    "            if isinstance(node, ast.Assign):\n",
    "                assign_node = node\n",
    "                break\n",
    "        if not assign_node:\n",
    "            return \"No assignment found\"\n",
    "        value_node = assign_node.value  # 获取赋值表达式的节点\n",
    "\n",
    "        # 找到最终的值节点\n",
    "        while isinstance(value_node, ast.BinOp):\n",
    "            value_node = value_node.right\n",
    "\n",
    "        exec(code)\n",
    "        return_type = type(eval(compile(ast.Expression(value_node), filename='<ast>', mode='eval'))).__name__\n",
    "        return return_type.capitalize()  # 返回返回值类型的首字母大写，其余小写\n",
    "    except SyntaxError:\n",
    "        return \"Invalid code\"\n",
    "\n",
    "# code = \"result = {1:2}\"\n",
    "\n",
    "py_src = \\\n",
    "    \"\"\"\n",
    "def add(x, y):\n",
    "    return x + y\n",
    "a = add(3.5, 5.5)\n",
    "\"\"\"\n",
    "\n",
    "result_type = parse_assignment(py_src)\n",
    "print(result_type)\n",
    "\n",
    "def find_related_functions(node_name):\n",
    "    # 连接到Neo4j数据库\n",
    "    graph = Graph(\"bolt://localhost:7687\", auth=('neo4j', '12345678'))\n",
    "\n",
    "    # 查询与特定类型的所有方法相关的节点\n",
    "    query = f\"MATCH (n:DataType)-[:HAS_METHOD]->(m:Method) WHERE n.name = '{node_name}' RETURN m.name\"\n",
    "    result = graph.run(query)\n",
    "\n",
    "    # 提取查询结果中的方法名\n",
    "    methods = [record[\"m.name\"] for record in result]\n",
    "\n",
    "    return methods\n",
    "\n",
    "list_methods = find_related_functions(result_type.lower())\n",
    "\n",
    "print(list_methods)\n",
    "\n",
    "\n"
   ]
  },
  {
   "cell_type": "code",
   "execution_count": 2,
   "metadata": {},
   "outputs": [
    {
     "data": {
      "text/plain": [
       "'Abc'"
      ]
     },
     "execution_count": 2,
     "metadata": {},
     "output_type": "execute_result"
    }
   ],
   "source": [
    "string\n",
    "for node in nodes:\n",
    "    query(string)\n",
    "    string <-result"
   ]
  },
  {
   "cell_type": "markdown",
   "metadata": {},
   "source": [
    "语义分割\n",
    "\n",
    "list\n",
    "\n",
    "根据有无括号 确定查询的关系\n",
    "\n",
    "返回id+数据类型\n",
    "\n",
    "再继续查 若function或属性 则二级查询；如果class或namespace 返回全部\n",
    "\n",
    "返回list"
   ]
  },
  {
   "cell_type": "code",
   "execution_count": 5,
   "metadata": {},
   "outputs": [
    {
     "name": "stdout",
     "output_type": "stream",
     "text": [
      "['numpy', 'sum()', 'sum()']\n"
     ]
    }
   ],
   "source": [
    "string = input(\"请输入字符串: \")\n",
    "split_list = string.split('.')\n",
    "print(split_list)\n"
   ]
  },
  {
   "cell_type": "code",
   "execution_count": null,
   "metadata": {},
   "outputs": [],
   "source": [
    "from py2neo import Graph\n",
    "\n",
    "# former_node_id = 0\n",
    "# former_node_attribute = 'Int'\n",
    "# former_node = {'id': former_node_id, 'attribute': former_node_attribute}\n",
    "former_node_id = []\n",
    "\n",
    "def is_contain_parentheses(string):\n",
    "    if '(' in string:\n",
    "        return True\n",
    "    else:\n",
    "        return False\n",
    "\n",
    "def find_relationships_first(split_list): # 如果是列表中第一个\n",
    "    # 连接到Neo4j数据库\n",
    "    graph = Graph(\"bolt://localhost:7687\", auth=('neo4j', '12345678'))\n",
    "\n",
    "    query_idtype = f\"MATCH (n) WHERE n.name = '{split_list}' RETURN n.id, n.type\"\n",
    "    result_idtype = graph.run(query_idtype)\n",
    "    for record in result_idtype:\n",
    "        node_id = record[\"n.id\"]\n",
    "        node_type = record[\"n.type\"]\n",
    "        if node_type == 'method' or node_type == 'attribute':\n",
    "            query_next = f\"MATCH (n)-[r:]->(o)-[r:]->(m) WHERE n.id = '{node_id}'  RETURN m.name\"\n",
    "        else:\n",
    "            query_next = f\"MATCH (n)-[r:]->(m) WHERE n.id = '{node_id}'  RETURN m.name\"\n",
    "        result_next = graph.run(query_next)\n",
    "        next_node = [record[\"m.name\"] for record in result_next]\n",
    "        global former_node_id\n",
    "        former_node_id = record[\"n.id\"]\n",
    "    return next_node\n",
    "\n",
    "\n",
    "def find_relationships(split_list):\n",
    "    # 连接到Neo4j数据库\n",
    "    graph = Graph(\"bolt://localhost:7687\", auth=('neo4j', '12345678'))\n",
    "\n",
    "    query_idtype = f\"MATCH (n)-[r:]->(m) WHERE n.id ='{former_node_id[0]}' AND m.name = '{split_list}' RETURN m.id, m.type\"\n",
    "    result_idtype = graph.run(query_idtype)\n",
    "    for record in result_idtype:\n",
    "        node_id = record[\"m.id\"]\n",
    "        node_type = record[\"m.type\"]\n",
    "        if node_type == 'method' or node_type == 'attribute':\n",
    "            query_next = f\"MATCH (n)-[r:]->(o)-[r:]->(p)-[r:]->(m) WHERE n.id = '{former_node_id[0]}' AND o.id = '{node_id[0]}' RETURN m.name\"\n",
    "        else:\n",
    "            query_next = f\"MATCH (n)-[r:]->(o)-[r:]->(m) WHERE n.id = '{former_node_id[0]}' AND o.id = '{node_id[0]}' RETURN m.name\"\n",
    "        result_next = graph.run(query_next)\n",
    "        next_node = [record[\"m.name\"] for record in result_next]\n",
    "        global former_node_id\n",
    "        former_node_id = record[\"n.id\"]\n",
    "    return next_node\n",
    "\n",
    "\n",
    "\n",
    "def find_relationships_final(split_list): # 如果是列表中最后一个\n",
    "    # 连接到Neo4j数据库\n",
    "    graph = Graph(\"bolt://localhost:7687\", auth=('neo4j', '12345678'))\n",
    "    query_idtype = f\"MATCH (n)-[r:]->(m) WHERE n.id ='{former_node_id[0]}' AND m.name = '{split_list}' RETURN m.id, m.type\"\n",
    "    result_idtype = graph.run(query_idtype)\n",
    "    for record in result_idtype:\n",
    "        node_id = record[\"m.id\"]\n",
    "        node_type = record[\"m.type\"]\n",
    "        if node_type == 'method' or node_type == 'attribute':\n",
    "            query_next = f\"MATCH (n)-[r:]->(o)-[r:]->(p)-[r:]->(m) WHERE n.id = '{former_node_id[0]}' AND o.id = '{node_id[0]}' RETURN m.name\"\n",
    "        else:\n",
    "            query_next = f\"MATCH (n)-[r:]->(o)-[r:]->(m) WHERE n.id = '{former_node_id[0]}' AND o.id = '{node_id[0]}' RETURN m.name\"\n",
    "        result_next = graph.run(query_next)\n",
    "        next_node = [record[\"m.name\"] for record in result_next]\n",
    "    return next_node\n",
    "\n",
    "\n",
    "\n",
    "string = input(\"请输入字符串: \")\n",
    "split_lists = string.split('.')\n",
    "print(split_lists)\n",
    "\n",
    "for split_list, index in enumerate(split_lists):\n",
    "    if index == 0:\n",
    "        find_relationships_first(split_list)\n",
    "    elif index == len(split_lists) - 1:\n",
    "        find_relationships_final(split_list)\n",
    "    else:\n",
    "        find_relationships(split_list)"
   ]
  },
  {
   "cell_type": "code",
   "execution_count": 9,
   "metadata": {},
   "outputs": [
    {
     "name": "stdout",
     "output_type": "stream",
     "text": [
      "处理元素\n",
      "处理元素\n",
      "1\n"
     ]
    }
   ],
   "source": [
    "split_lists = [1,2,3]\n",
    "for index, split_list in enumerate(split_lists):\n",
    "    if index == len(split_lists) - 1:\n",
    "        # 运行另一个函数，例如find_relationships()\n",
    "        print(1)\n",
    "    else:\n",
    "        # 正常处理split_list\n",
    "        print(\"处理元素\")"
   ]
  },
  {
   "cell_type": "code",
   "execution_count": 3,
   "metadata": {},
   "outputs": [
    {
     "data": {
      "text/plain": [
       "True"
      ]
     },
     "execution_count": 3,
     "metadata": {},
     "output_type": "execute_result"
    }
   ],
   "source": [
    "a = ['aa', 'bb', 'Cc']\n",
    "a[2][0].isupper()"
   ]
  },
  {
   "cell_type": "code",
   "execution_count": 5,
   "metadata": {},
   "outputs": [
    {
     "data": {
      "text/plain": [
       "8"
      ]
     },
     "execution_count": 5,
     "metadata": {},
     "output_type": "execute_result"
    }
   ],
   "source": [
    "def numpy(x,y):\n",
    "    return x+y\n",
    "a = numpy(3,5)\n",
    "a"
   ]
  }
 ],
 "metadata": {
  "kernelspec": {
   "display_name": "project",
   "language": "python",
   "name": "python3"
  },
  "language_info": {
   "codemirror_mode": {
    "name": "ipython",
    "version": 3
   },
   "file_extension": ".py",
   "mimetype": "text/x-python",
   "name": "python",
   "nbconvert_exporter": "python",
   "pygments_lexer": "ipython3",
   "version": "3.11.4"
  },
  "orig_nbformat": 4
 },
 "nbformat": 4,
 "nbformat_minor": 2
}
